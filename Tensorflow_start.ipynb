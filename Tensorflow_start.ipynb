{
 "cells": [
  {
   "cell_type": "code",
   "execution_count": 3,
   "metadata": {},
   "outputs": [
    {
     "name": "stderr",
     "output_type": "stream",
     "text": [
      "C:\\Anaconda3\\lib\\site-packages\\h5py\\__init__.py:36: FutureWarning: Conversion of the second argument of issubdtype from `float` to `np.floating` is deprecated. In future, it will be treated as `np.float64 == np.dtype(float).type`.\n",
      "  from ._conv import register_converters as _register_converters\n"
     ]
    }
   ],
   "source": [
    "import tensorflow as tf"
   ]
  },
  {
   "cell_type": "markdown",
   "metadata": {},
   "source": [
    "Tensorflow Start"
   ]
  },
  {
   "cell_type": "code",
   "execution_count": 4,
   "metadata": {},
   "outputs": [],
   "source": [
    "hello = tf.constant('Hello, Tensorflow')\n",
    "\n",
    "a = tf.constant(10)\n",
    "b = tf.constant(20)\n",
    "c = tf.add(a, b)"
   ]
  },
  {
   "cell_type": "code",
   "execution_count": 5,
   "metadata": {},
   "outputs": [
    {
     "name": "stdout",
     "output_type": "stream",
     "text": [
      "b'Hello, Tensorflow'\n",
      "[10, 20, 30]\n"
     ]
    }
   ],
   "source": [
    "sess = tf.Session()\n",
    "print(sess.run(hello))\n",
    "print(sess.run([a, b, c]))\n",
    "\n",
    "sess.close()"
   ]
  },
  {
   "cell_type": "markdown",
   "metadata": {},
   "source": [
    "  - placeholder\n",
    "  - Variable"
   ]
  },
  {
   "cell_type": "code",
   "execution_count": 14,
   "metadata": {},
   "outputs": [
    {
     "name": "stdout",
     "output_type": "stream",
     "text": [
      "[[ -9.422638   -2.567659 ]\n",
      " [-15.886824   -3.5274854]]\n"
     ]
    }
   ],
   "source": [
    "X = tf.placeholder(tf.float32, [None, 3])\n",
    "W = tf.Variable(tf.random_normal([3, 2]))\n",
    "b = tf.Variable(tf.random_normal([2, 1]))\n",
    "\n",
    "expr = tf.matmul(X, W) + b\n",
    "\n",
    "x_data = [[1, 2, 3], [4, 5, 6]]\n",
    "\n",
    "with tf.Session() as sess:\n",
    "    sess.run(tf.global_variables_initializer())\n",
    "    print(sess.run(expr, feed_dict={X: x_data}))"
   ]
  },
  {
   "cell_type": "markdown",
   "metadata": {},
   "source": [
    "- LinearRegression"
   ]
  },
  {
   "cell_type": "code",
   "execution_count": 28,
   "metadata": {},
   "outputs": [
    {
     "name": "stdout",
     "output_type": "stream",
     "text": [
      "0 13.010857 [1.1551075] [0.06312269]\n",
      "100 2.1243816e-08 [1.0001652] [-0.00037566]\n",
      "200 1.6425498e-10 [1.0000145] [-3.2977627e-05]\n",
      "300 1.2091069e-12 [1.0000013] [-2.9329115e-06]\n",
      "400 3.7895614e-14 [1.0000004] [-6.242248e-07]\n",
      "500 3.7895614e-14 [1.0000004] [-6.242248e-07]\n",
      "600 3.7895614e-14 [1.0000004] [-6.242248e-07]\n",
      "700 3.7895614e-14 [1.0000004] [-6.242248e-07]\n",
      "800 3.7895614e-14 [1.0000004] [-6.242248e-07]\n",
      "900 3.7895614e-14 [1.0000004] [-6.242248e-07]\n",
      "[2.5000002]\n",
      "[5.0000014]\n"
     ]
    }
   ],
   "source": [
    "x_data = [1, 2, 3]\n",
    "y_data = [1, 2, 3]\n",
    "\n",
    "W = tf.Variable(tf.random_uniform([1], -1.0, 1.0))\n",
    "b = tf.Variable(tf.random_uniform([1], -1.0, 1.0))\n",
    "\n",
    "X = tf.placeholder(tf.float32, name='X')\n",
    "Y = tf.placeholder(tf.float32, name='Y')\n",
    "\n",
    "hypothesis = W * X + b\n",
    "cost = tf.reduce_mean(tf.square(hypothesis - Y))\n",
    "\n",
    "optimizer = tf.train.GradientDescentOptimizer(learning_rate=0.1)\n",
    "train = optimizer.minimize(cost)\n",
    "\n",
    "with tf.Session() as sess:\n",
    "    sess.run(tf.global_variables_initializer())\n",
    "    \n",
    "    for step in range(1000):\n",
    "        _, cost_val = sess.run([train, cost], feed_dict={X: x_data, Y: y_data})\n",
    "        if (step % 100 == 0):\n",
    "            print(step, cost_val, sess.run(W), sess.run(b))\n",
    "\n",
    "    print(sess.run(hypothesis, feed_dict={X: 2.5}))\n",
    "    print(sess.run(hypothesis, feed_dict={X: 5}))"
   ]
  },
  {
   "cell_type": "code",
   "execution_count": null,
   "metadata": {},
   "outputs": [],
   "source": []
  }
 ],
 "metadata": {
  "kernelspec": {
   "display_name": "Python 3",
   "language": "python",
   "name": "python3"
  },
  "language_info": {
   "codemirror_mode": {
    "name": "ipython",
    "version": 3
   },
   "file_extension": ".py",
   "mimetype": "text/x-python",
   "name": "python",
   "nbconvert_exporter": "python",
   "pygments_lexer": "ipython3",
   "version": "3.6.4"
  }
 },
 "nbformat": 4,
 "nbformat_minor": 2
}
